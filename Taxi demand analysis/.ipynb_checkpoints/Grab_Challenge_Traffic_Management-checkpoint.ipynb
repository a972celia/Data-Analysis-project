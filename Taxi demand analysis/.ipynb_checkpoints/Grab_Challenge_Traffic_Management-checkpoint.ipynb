{
 "cells": [
  {
   "cell_type": "code",
   "execution_count": 1,
   "metadata": {},
   "outputs": [
    {
     "name": "stderr",
     "output_type": "stream",
     "text": [
      "Using TensorFlow backend.\n"
     ]
    }
   ],
   "source": [
    "# Let's import all packages that we may need:\n",
    "from sklearn.preprocessing import StandardScaler, RobustScaler, Normalizer\n",
    "from sklearn.model_selection import cross_val_score\n",
    "from sklearn.model_selection import TimeSeriesSplit\n",
    "from sklearn.metrics import mean_squared_error, mean_absolute_error\n",
    "from sklearn.metrics import r2_score\n",
    "from sklearn.utils import shuffle\n",
    "from sklearn.model_selection import train_test_split\n",
    "from keras.models import Sequential\n",
    "from keras.layers import Dense\n",
    "from keras.layers import LSTM\n",
    "from keras.layers import Dropout\n",
    "from keras.layers import Activation\n",
    "\n",
    "\n",
    "# Models\n",
    "from sklearn.linear_model import LinearRegression\n",
    "from sklearn.ensemble import RandomForestRegressor\n",
    "import os\n",
    "import xgboost as xgb\n",
    "\n",
    "\n",
    "import pandas as pd\n",
    "import numpy as np\n",
    "import matplotlib.pyplot as plt\n",
    "import seaborn as sns\n",
    "import math\n",
    "%matplotlib inline\n",
    "import geohash2 as geohash\n",
    "\n"
   ]
  },
  {
   "cell_type": "markdown",
   "metadata": {},
   "source": [
    "### Prepossesing Data"
   ]
  },
  {
   "cell_type": "code",
   "execution_count": null,
   "metadata": {},
   "outputs": [],
   "source": [
    "# df = pd.read_csv('/Users/Celia/Desktop/Traffic Management/training.csv')\n",
    "\n",
    "# df[[\"lat\",\"lon\"]] = df[\"geohash\"].apply(lambda x: pd.Series(\n",
    "#      {\"lat\":geohash.decode_exactly(x)[0],\n",
    "#       \"long\": geohash.decode_exactly(x)[1]}))\n",
    "# new_training = df.to_csv('/Users/Celia/Desktop/Traffic Management/new_training.csv')"
   ]
  },
  {
   "cell_type": "markdown",
   "metadata": {},
   "source": [
    "Decode the goehash form raw dataset to get latitude and longtitude at first and save it to another file for the purpose of saving computer memory. ↑"
   ]
  },
  {
   "cell_type": "code",
   "execution_count": 44,
   "metadata": {},
   "outputs": [
    {
     "name": "stderr",
     "output_type": "stream",
     "text": [
      "/Library/Frameworks/Python.framework/Versions/3.6/lib/python3.6/site-packages/numpy/lib/arraysetops.py:569: FutureWarning: elementwise comparison failed; returning scalar instead, but in the future will perform elementwise comparison\n",
      "  mask |= (ar1 == a)\n"
     ]
    }
   ],
   "source": [
    "df = pd.read_csv('/Users/Celia/Desktop/Traffic Management/new_training.csv',index_col=0)"
   ]
  },
  {
   "cell_type": "code",
   "execution_count": 45,
   "metadata": {},
   "outputs": [
    {
     "data": {
      "text/html": [
       "<div>\n",
       "<style scoped>\n",
       "    .dataframe tbody tr th:only-of-type {\n",
       "        vertical-align: middle;\n",
       "    }\n",
       "\n",
       "    .dataframe tbody tr th {\n",
       "        vertical-align: top;\n",
       "    }\n",
       "\n",
       "    .dataframe thead th {\n",
       "        text-align: right;\n",
       "    }\n",
       "</style>\n",
       "<table border=\"1\" class=\"dataframe\">\n",
       "  <thead>\n",
       "    <tr style=\"text-align: right;\">\n",
       "      <th></th>\n",
       "      <th>geohash6</th>\n",
       "      <th>day</th>\n",
       "      <th>timestamp</th>\n",
       "      <th>demand</th>\n",
       "      <th>lat</th>\n",
       "      <th>lon</th>\n",
       "    </tr>\n",
       "  </thead>\n",
       "  <tbody>\n",
       "    <tr>\n",
       "      <th>0</th>\n",
       "      <td>qp03wc</td>\n",
       "      <td>18</td>\n",
       "      <td>20:0</td>\n",
       "      <td>0.020072</td>\n",
       "      <td>-5.353088</td>\n",
       "      <td>90.653687</td>\n",
       "    </tr>\n",
       "    <tr>\n",
       "      <th>1</th>\n",
       "      <td>qp03pn</td>\n",
       "      <td>10</td>\n",
       "      <td>14:30</td>\n",
       "      <td>0.024721</td>\n",
       "      <td>-5.413513</td>\n",
       "      <td>90.664673</td>\n",
       "    </tr>\n",
       "    <tr>\n",
       "      <th>2</th>\n",
       "      <td>qp09sw</td>\n",
       "      <td>9</td>\n",
       "      <td>6:15</td>\n",
       "      <td>0.102821</td>\n",
       "      <td>-5.325623</td>\n",
       "      <td>90.906372</td>\n",
       "    </tr>\n",
       "    <tr>\n",
       "      <th>3</th>\n",
       "      <td>qp0991</td>\n",
       "      <td>32</td>\n",
       "      <td>5:0</td>\n",
       "      <td>0.088755</td>\n",
       "      <td>-5.353088</td>\n",
       "      <td>90.752563</td>\n",
       "    </tr>\n",
       "    <tr>\n",
       "      <th>4</th>\n",
       "      <td>qp090q</td>\n",
       "      <td>15</td>\n",
       "      <td>4:0</td>\n",
       "      <td>0.074468</td>\n",
       "      <td>-5.413513</td>\n",
       "      <td>90.719604</td>\n",
       "    </tr>\n",
       "  </tbody>\n",
       "</table>\n",
       "</div>"
      ],
      "text/plain": [
       "  geohash6  day timestamp    demand       lat        lon\n",
       "0   qp03wc   18      20:0  0.020072 -5.353088  90.653687\n",
       "1   qp03pn   10     14:30  0.024721 -5.413513  90.664673\n",
       "2   qp09sw    9      6:15  0.102821 -5.325623  90.906372\n",
       "3   qp0991   32       5:0  0.088755 -5.353088  90.752563\n",
       "4   qp090q   15       4:0  0.074468 -5.413513  90.719604"
      ]
     },
     "execution_count": 45,
     "metadata": {},
     "output_type": "execute_result"
    }
   ],
   "source": [
    "df.head()"
   ]
  },
  {
   "cell_type": "code",
   "execution_count": 46,
   "metadata": {},
   "outputs": [
    {
     "data": {
      "text/html": [
       "<div>\n",
       "<style scoped>\n",
       "    .dataframe tbody tr th:only-of-type {\n",
       "        vertical-align: middle;\n",
       "    }\n",
       "\n",
       "    .dataframe tbody tr th {\n",
       "        vertical-align: top;\n",
       "    }\n",
       "\n",
       "    .dataframe thead th {\n",
       "        text-align: right;\n",
       "    }\n",
       "</style>\n",
       "<table border=\"1\" class=\"dataframe\">\n",
       "  <thead>\n",
       "    <tr style=\"text-align: right;\">\n",
       "      <th></th>\n",
       "      <th>geohash6</th>\n",
       "      <th>day</th>\n",
       "      <th>timestamp</th>\n",
       "      <th>demand</th>\n",
       "      <th>lat</th>\n",
       "      <th>lon</th>\n",
       "      <th>h</th>\n",
       "      <th>m</th>\n",
       "      <th>timebin_no</th>\n",
       "      <th>map_day</th>\n",
       "    </tr>\n",
       "  </thead>\n",
       "  <tbody>\n",
       "    <tr>\n",
       "      <th>0</th>\n",
       "      <td>qp03wc</td>\n",
       "      <td>18</td>\n",
       "      <td>20:0</td>\n",
       "      <td>0.020072</td>\n",
       "      <td>-5.353088</td>\n",
       "      <td>90.653687</td>\n",
       "      <td>20</td>\n",
       "      <td>0</td>\n",
       "      <td>80</td>\n",
       "      <td>4</td>\n",
       "    </tr>\n",
       "    <tr>\n",
       "      <th>1</th>\n",
       "      <td>qp03pn</td>\n",
       "      <td>10</td>\n",
       "      <td>14:30</td>\n",
       "      <td>0.024721</td>\n",
       "      <td>-5.413513</td>\n",
       "      <td>90.664673</td>\n",
       "      <td>14</td>\n",
       "      <td>30</td>\n",
       "      <td>58</td>\n",
       "      <td>3</td>\n",
       "    </tr>\n",
       "    <tr>\n",
       "      <th>2</th>\n",
       "      <td>qp09sw</td>\n",
       "      <td>9</td>\n",
       "      <td>6:15</td>\n",
       "      <td>0.102821</td>\n",
       "      <td>-5.325623</td>\n",
       "      <td>90.906372</td>\n",
       "      <td>6</td>\n",
       "      <td>15</td>\n",
       "      <td>25</td>\n",
       "      <td>2</td>\n",
       "    </tr>\n",
       "    <tr>\n",
       "      <th>3</th>\n",
       "      <td>qp0991</td>\n",
       "      <td>32</td>\n",
       "      <td>5:0</td>\n",
       "      <td>0.088755</td>\n",
       "      <td>-5.353088</td>\n",
       "      <td>90.752563</td>\n",
       "      <td>5</td>\n",
       "      <td>0</td>\n",
       "      <td>20</td>\n",
       "      <td>4</td>\n",
       "    </tr>\n",
       "    <tr>\n",
       "      <th>4</th>\n",
       "      <td>qp090q</td>\n",
       "      <td>15</td>\n",
       "      <td>4:0</td>\n",
       "      <td>0.074468</td>\n",
       "      <td>-5.413513</td>\n",
       "      <td>90.719604</td>\n",
       "      <td>4</td>\n",
       "      <td>0</td>\n",
       "      <td>16</td>\n",
       "      <td>1</td>\n",
       "    </tr>\n",
       "  </tbody>\n",
       "</table>\n",
       "</div>"
      ],
      "text/plain": [
       "  geohash6  day timestamp    demand       lat        lon   h   m  timebin_no  \\\n",
       "0   qp03wc   18      20:0  0.020072 -5.353088  90.653687  20   0          80   \n",
       "1   qp03pn   10     14:30  0.024721 -5.413513  90.664673  14  30          58   \n",
       "2   qp09sw    9      6:15  0.102821 -5.325623  90.906372   6  15          25   \n",
       "3   qp0991   32       5:0  0.088755 -5.353088  90.752563   5   0          20   \n",
       "4   qp090q   15       4:0  0.074468 -5.413513  90.719604   4   0          16   \n",
       "\n",
       "   map_day  \n",
       "0        4  \n",
       "1        3  \n",
       "2        2  \n",
       "3        4  \n",
       "4        1  "
      ]
     },
     "execution_count": 46,
     "metadata": {},
     "output_type": "execute_result"
    }
   ],
   "source": [
    "#Creating some new features\n",
    "df[['h','m']] = df['timestamp'].astype(str).str.split(':', expand=True).astype(int)\n",
    "\n",
    "#timebin\n",
    "df[\"timebin_no\"] = ((df[\"h\"]*60+df[\"m\"]) / 15).astype(int)\n",
    "\n",
    "#day\n",
    "df['map_day'] = df['day']%7\n",
    "\n",
    "df.head()"
   ]
  },
  {
   "cell_type": "markdown",
   "metadata": {},
   "source": [
    "**Origin dataset**\n",
    "<li><b>Geohash6 :</b> Geohash is a public domain geocoding system which encodes a geographic location into a short string of letters and digits with arbitrary precision</li>\n",
    "<li><b>Timestamp:</b>\n",
    "start time of 15-minute intervals, in the following format: (hour:minute), where hour ranges from 0 to 23 and minute is either one of (0, 15, 30, 45) </li>\n",
    "<li><b>Day :</b>day, where the value indicates the sequential order and not a particular day of the month</li>\n",
    "<li><b>Demand :</b> aggregated demand normalised to be in the range [0,1]</li>\n",
    "\n",
    "<br>\n",
    "**Note that we create two new features**\n",
    "<li><b>timebin_no : </b> Transfer the whole time into 15-min time bin ex: 24*4 = 96 bins</li>\n",
    "<li><b>map_day :</b> We retrieve the remainder of day column when it is divided by 7</li>"
   ]
  },
  {
   "cell_type": "code",
   "execution_count": 4,
   "metadata": {},
   "outputs": [],
   "source": [
    "train = df[['geohash6', 'timebin_no', 'map_day','demand']]"
   ]
  },
  {
   "cell_type": "code",
   "execution_count": 5,
   "metadata": {},
   "outputs": [
    {
     "data": {
      "text/html": [
       "<div>\n",
       "<style scoped>\n",
       "    .dataframe tbody tr th:only-of-type {\n",
       "        vertical-align: middle;\n",
       "    }\n",
       "\n",
       "    .dataframe tbody tr th {\n",
       "        vertical-align: top;\n",
       "    }\n",
       "\n",
       "    .dataframe thead th {\n",
       "        text-align: right;\n",
       "    }\n",
       "</style>\n",
       "<table border=\"1\" class=\"dataframe\">\n",
       "  <thead>\n",
       "    <tr style=\"text-align: right;\">\n",
       "      <th></th>\n",
       "      <th>geohash6</th>\n",
       "      <th>timebin_no</th>\n",
       "      <th>map_day</th>\n",
       "      <th>demand</th>\n",
       "    </tr>\n",
       "  </thead>\n",
       "  <tbody>\n",
       "    <tr>\n",
       "      <th>0</th>\n",
       "      <td>qp03wc</td>\n",
       "      <td>80</td>\n",
       "      <td>4</td>\n",
       "      <td>0.020072</td>\n",
       "    </tr>\n",
       "    <tr>\n",
       "      <th>1</th>\n",
       "      <td>qp03pn</td>\n",
       "      <td>58</td>\n",
       "      <td>3</td>\n",
       "      <td>0.024721</td>\n",
       "    </tr>\n",
       "    <tr>\n",
       "      <th>2</th>\n",
       "      <td>qp09sw</td>\n",
       "      <td>25</td>\n",
       "      <td>2</td>\n",
       "      <td>0.102821</td>\n",
       "    </tr>\n",
       "    <tr>\n",
       "      <th>3</th>\n",
       "      <td>qp0991</td>\n",
       "      <td>20</td>\n",
       "      <td>4</td>\n",
       "      <td>0.088755</td>\n",
       "    </tr>\n",
       "    <tr>\n",
       "      <th>4</th>\n",
       "      <td>qp090q</td>\n",
       "      <td>16</td>\n",
       "      <td>1</td>\n",
       "      <td>0.074468</td>\n",
       "    </tr>\n",
       "  </tbody>\n",
       "</table>\n",
       "</div>"
      ],
      "text/plain": [
       "  geohash6  timebin_no  map_day    demand\n",
       "0   qp03wc          80        4  0.020072\n",
       "1   qp03pn          58        3  0.024721\n",
       "2   qp09sw          25        2  0.102821\n",
       "3   qp0991          20        4  0.088755\n",
       "4   qp090q          16        1  0.074468"
      ]
     },
     "execution_count": 5,
     "metadata": {},
     "output_type": "execute_result"
    }
   ],
   "source": [
    "train.head()"
   ]
  },
  {
   "cell_type": "code",
   "execution_count": 6,
   "metadata": {},
   "outputs": [
    {
     "name": "stderr",
     "output_type": "stream",
     "text": [
      "/Library/Frameworks/Python.framework/Versions/3.6/lib/python3.6/site-packages/ipykernel_launcher.py:1: SettingWithCopyWarning: \n",
      "A value is trying to be set on a copy of a slice from a DataFrame.\n",
      "Try using .loc[row_indexer,col_indexer] = value instead\n",
      "\n",
      "See the caveats in the documentation: http://pandas.pydata.org/pandas-docs/stable/indexing.html#indexing-view-versus-copy\n",
      "  \"\"\"Entry point for launching an IPython kernel.\n"
     ]
    }
   ],
   "source": [
    "train[\"uid\"] =train[\"geohash6\"].astype(str)+ \"_\"+train[\"timebin_no\"].astype(str)+\"_\"+ train[\"map_day\"].astype(str)"
   ]
  },
  {
   "cell_type": "markdown",
   "metadata": {},
   "source": [
    "We aggregate the number of taxi demands during every time-step length.That is to say, we group by the raw taxi data by each time bin, Geohash code and the map_day. In such a way, historical taxi data in each area becomes the aggregated number of demand data sequences.We get an observation that there are some time_bins that do not have any demand so we fill a value of zero for every bins where no demand data is present."
   ]
  },
  {
   "cell_type": "code",
   "execution_count": 7,
   "metadata": {},
   "outputs": [
    {
     "data": {
      "text/html": [
       "<div>\n",
       "<style scoped>\n",
       "    .dataframe tbody tr th:only-of-type {\n",
       "        vertical-align: middle;\n",
       "    }\n",
       "\n",
       "    .dataframe tbody tr th {\n",
       "        vertical-align: top;\n",
       "    }\n",
       "\n",
       "    .dataframe thead th {\n",
       "        text-align: right;\n",
       "    }\n",
       "</style>\n",
       "<table border=\"1\" class=\"dataframe\">\n",
       "  <thead>\n",
       "    <tr style=\"text-align: right;\">\n",
       "      <th></th>\n",
       "      <th>geohash6</th>\n",
       "      <th>timebin_no</th>\n",
       "      <th>map_day</th>\n",
       "      <th>demand</th>\n",
       "      <th>uid</th>\n",
       "    </tr>\n",
       "  </thead>\n",
       "  <tbody>\n",
       "    <tr>\n",
       "      <th>0</th>\n",
       "      <td>qp03wc</td>\n",
       "      <td>80</td>\n",
       "      <td>4</td>\n",
       "      <td>0.020072</td>\n",
       "      <td>qp03wc_80_4</td>\n",
       "    </tr>\n",
       "    <tr>\n",
       "      <th>1</th>\n",
       "      <td>qp03pn</td>\n",
       "      <td>58</td>\n",
       "      <td>3</td>\n",
       "      <td>0.024721</td>\n",
       "      <td>qp03pn_58_3</td>\n",
       "    </tr>\n",
       "    <tr>\n",
       "      <th>2</th>\n",
       "      <td>qp09sw</td>\n",
       "      <td>25</td>\n",
       "      <td>2</td>\n",
       "      <td>0.102821</td>\n",
       "      <td>qp09sw_25_2</td>\n",
       "    </tr>\n",
       "    <tr>\n",
       "      <th>3</th>\n",
       "      <td>qp0991</td>\n",
       "      <td>20</td>\n",
       "      <td>4</td>\n",
       "      <td>0.088755</td>\n",
       "      <td>qp0991_20_4</td>\n",
       "    </tr>\n",
       "    <tr>\n",
       "      <th>4</th>\n",
       "      <td>qp090q</td>\n",
       "      <td>16</td>\n",
       "      <td>1</td>\n",
       "      <td>0.074468</td>\n",
       "      <td>qp090q_16_1</td>\n",
       "    </tr>\n",
       "  </tbody>\n",
       "</table>\n",
       "</div>"
      ],
      "text/plain": [
       "  geohash6  timebin_no  map_day    demand          uid\n",
       "0   qp03wc          80        4  0.020072  qp03wc_80_4\n",
       "1   qp03pn          58        3  0.024721  qp03pn_58_3\n",
       "2   qp09sw          25        2  0.102821  qp09sw_25_2\n",
       "3   qp0991          20        4  0.088755  qp0991_20_4\n",
       "4   qp090q          16        1  0.074468  qp090q_16_1"
      ]
     },
     "execution_count": 7,
     "metadata": {},
     "output_type": "execute_result"
    }
   ],
   "source": [
    "train.head()"
   ]
  },
  {
   "cell_type": "code",
   "execution_count": 8,
   "metadata": {},
   "outputs": [],
   "source": [
    "all_locs = train['geohash6'].unique()"
   ]
  },
  {
   "cell_type": "code",
   "execution_count": 9,
   "metadata": {},
   "outputs": [],
   "source": [
    "all_bins = train['timebin_no'].unique()"
   ]
  },
  {
   "cell_type": "code",
   "execution_count": 10,
   "metadata": {},
   "outputs": [],
   "source": [
    "all_day = train['map_day'].unique()"
   ]
  },
  {
   "cell_type": "code",
   "execution_count": 11,
   "metadata": {},
   "outputs": [
    {
     "name": "stdout",
     "output_type": "stream",
     "text": [
      "1329\n",
      "96\n",
      "7\n"
     ]
    }
   ],
   "source": [
    "print(len(all_locs))\n",
    "print(len(all_bins))\n",
    "print(len(all_day))"
   ]
  },
  {
   "cell_type": "code",
   "execution_count": 12,
   "metadata": {},
   "outputs": [
    {
     "name": "stderr",
     "output_type": "stream",
     "text": [
      "/Library/Frameworks/Python.framework/Versions/3.6/lib/python3.6/site-packages/ipykernel_launcher.py:1: FutureWarning: using a dict on a Series for aggregation\n",
      "is deprecated and will be removed in a future version\n",
      "  \"\"\"Entry point for launching an IPython kernel.\n"
     ]
    }
   ],
   "source": [
    "df_groupbyall = train.groupby(['uid']).demand.agg({'demand':'sum'})   "
   ]
  },
  {
   "cell_type": "code",
   "execution_count": 13,
   "metadata": {},
   "outputs": [
    {
     "data": {
      "text/plain": [
       "893088"
      ]
     },
     "execution_count": 13,
     "metadata": {},
     "output_type": "execute_result"
    }
   ],
   "source": [
    "1329*96*7"
   ]
  },
  {
   "cell_type": "markdown",
   "metadata": {},
   "source": [
    "893088 is the number of columns we need to have"
   ]
  },
  {
   "cell_type": "code",
   "execution_count": 14,
   "metadata": {},
   "outputs": [],
   "source": [
    "uid_demand = df_groupbyall.reset_index()\n",
    "existing_uids = uid_demand.uid.tolist()"
   ]
  },
  {
   "cell_type": "code",
   "execution_count": 15,
   "metadata": {},
   "outputs": [],
   "source": [
    "all_uid = []\n",
    "for loc in all_locs:\n",
    "    for b in all_bins:\n",
    "        for d in all_day:\n",
    "            uid = \"{}_{}_{}\".format(loc,b,d)\n",
    "            all_uid.append([uid,0])         "
   ]
  },
  {
   "cell_type": "code",
   "execution_count": 16,
   "metadata": {},
   "outputs": [],
   "source": [
    "all_uid_demand = pd.DataFrame(all_uid, columns =['uid','demand'])"
   ]
  },
  {
   "cell_type": "code",
   "execution_count": 17,
   "metadata": {},
   "outputs": [],
   "source": [
    "result = pd.merge(uid_demand,all_uid_demand,  on=['uid'], how=\"outer\")"
   ]
  },
  {
   "cell_type": "code",
   "execution_count": 18,
   "metadata": {},
   "outputs": [],
   "source": [
    "result['demand'] = result['demand_x']\n",
    "result['demand'].fillna(0, inplace=True)"
   ]
  },
  {
   "cell_type": "code",
   "execution_count": 19,
   "metadata": {},
   "outputs": [],
   "source": [
    "result = result[['uid', 'demand']]"
   ]
  },
  {
   "cell_type": "code",
   "execution_count": 20,
   "metadata": {},
   "outputs": [],
   "source": [
    "split_out =  result[\"uid\"].str.split(\"_\", n = 2, expand = True) "
   ]
  },
  {
   "cell_type": "code",
   "execution_count": 21,
   "metadata": {},
   "outputs": [],
   "source": [
    "result['geohash'] = split_out[0]\n",
    "result['timebin'] = split_out[1].astype(int)\n",
    "result['day'] = split_out[2].astype(int)"
   ]
  },
  {
   "cell_type": "code",
   "execution_count": 22,
   "metadata": {},
   "outputs": [],
   "source": [
    "result = result.drop(['uid'],axis=1)"
   ]
  },
  {
   "cell_type": "code",
   "execution_count": 23,
   "metadata": {},
   "outputs": [
    {
     "data": {
      "text/html": [
       "<div>\n",
       "<style scoped>\n",
       "    .dataframe tbody tr th:only-of-type {\n",
       "        vertical-align: middle;\n",
       "    }\n",
       "\n",
       "    .dataframe tbody tr th {\n",
       "        vertical-align: top;\n",
       "    }\n",
       "\n",
       "    .dataframe thead th {\n",
       "        text-align: right;\n",
       "    }\n",
       "</style>\n",
       "<table border=\"1\" class=\"dataframe\">\n",
       "  <thead>\n",
       "    <tr style=\"text-align: right;\">\n",
       "      <th></th>\n",
       "      <th>demand</th>\n",
       "      <th>geohash</th>\n",
       "      <th>timebin</th>\n",
       "      <th>day</th>\n",
       "    </tr>\n",
       "  </thead>\n",
       "  <tbody>\n",
       "    <tr>\n",
       "      <th>0</th>\n",
       "      <td>0.007733</td>\n",
       "      <td>qp02yc</td>\n",
       "      <td>0</td>\n",
       "      <td>0</td>\n",
       "    </tr>\n",
       "    <tr>\n",
       "      <th>1</th>\n",
       "      <td>0.010381</td>\n",
       "      <td>qp02yc</td>\n",
       "      <td>0</td>\n",
       "      <td>1</td>\n",
       "    </tr>\n",
       "    <tr>\n",
       "      <th>2</th>\n",
       "      <td>0.027875</td>\n",
       "      <td>qp02yc</td>\n",
       "      <td>0</td>\n",
       "      <td>2</td>\n",
       "    </tr>\n",
       "    <tr>\n",
       "      <th>3</th>\n",
       "      <td>0.084679</td>\n",
       "      <td>qp02yc</td>\n",
       "      <td>0</td>\n",
       "      <td>3</td>\n",
       "    </tr>\n",
       "    <tr>\n",
       "      <th>4</th>\n",
       "      <td>0.010563</td>\n",
       "      <td>qp02yc</td>\n",
       "      <td>0</td>\n",
       "      <td>6</td>\n",
       "    </tr>\n",
       "  </tbody>\n",
       "</table>\n",
       "</div>"
      ],
      "text/plain": [
       "     demand geohash  timebin  day\n",
       "0  0.007733  qp02yc        0    0\n",
       "1  0.010381  qp02yc        0    1\n",
       "2  0.027875  qp02yc        0    2\n",
       "3  0.084679  qp02yc        0    3\n",
       "4  0.010563  qp02yc        0    6"
      ]
     },
     "execution_count": 23,
     "metadata": {},
     "output_type": "execute_result"
    }
   ],
   "source": [
    "result.head()"
   ]
  },
  {
   "cell_type": "markdown",
   "metadata": {},
   "source": []
  },
  {
   "cell_type": "code",
   "execution_count": 24,
   "metadata": {},
   "outputs": [],
   "source": [
    "# result[[\"lat\",\"lon\"]] = result[\"geohash\"].apply(lambda x: pd.Series(\n",
    "#      {\"lat\":geohash.decode_exactly(x)[0],\n",
    "#       \"long\": geohash.decode_exactly(x)[1]}))"
   ]
  },
  {
   "cell_type": "markdown",
   "metadata": {},
   "source": [
    "Sorting the dataframe by timebin and day"
   ]
  },
  {
   "cell_type": "code",
   "execution_count": 25,
   "metadata": {},
   "outputs": [],
   "source": [
    "result = result.sort_values(by=['geohash', 'timebin','day']).reset_index()"
   ]
  },
  {
   "cell_type": "code",
   "execution_count": 26,
   "metadata": {},
   "outputs": [],
   "source": [
    "result = result.drop(['index'],axis=1)"
   ]
  },
  {
   "cell_type": "code",
   "execution_count": 27,
   "metadata": {},
   "outputs": [
    {
     "data": {
      "text/html": [
       "<div>\n",
       "<style scoped>\n",
       "    .dataframe tbody tr th:only-of-type {\n",
       "        vertical-align: middle;\n",
       "    }\n",
       "\n",
       "    .dataframe tbody tr th {\n",
       "        vertical-align: top;\n",
       "    }\n",
       "\n",
       "    .dataframe thead th {\n",
       "        text-align: right;\n",
       "    }\n",
       "</style>\n",
       "<table border=\"1\" class=\"dataframe\">\n",
       "  <thead>\n",
       "    <tr style=\"text-align: right;\">\n",
       "      <th></th>\n",
       "      <th>demand</th>\n",
       "      <th>geohash</th>\n",
       "      <th>timebin</th>\n",
       "      <th>day</th>\n",
       "      <th>lat</th>\n",
       "      <th>lon</th>\n",
       "    </tr>\n",
       "  </thead>\n",
       "  <tbody>\n",
       "    <tr>\n",
       "      <th>0</th>\n",
       "      <td>0.007733</td>\n",
       "      <td>qp02yc</td>\n",
       "      <td>0</td>\n",
       "      <td>0</td>\n",
       "      <td>-5.484924</td>\n",
       "      <td>90.653687</td>\n",
       "    </tr>\n",
       "    <tr>\n",
       "      <th>1</th>\n",
       "      <td>0.010381</td>\n",
       "      <td>qp02yc</td>\n",
       "      <td>0</td>\n",
       "      <td>1</td>\n",
       "      <td>-5.484924</td>\n",
       "      <td>90.653687</td>\n",
       "    </tr>\n",
       "    <tr>\n",
       "      <th>2</th>\n",
       "      <td>0.027875</td>\n",
       "      <td>qp02yc</td>\n",
       "      <td>0</td>\n",
       "      <td>2</td>\n",
       "      <td>-5.484924</td>\n",
       "      <td>90.653687</td>\n",
       "    </tr>\n",
       "    <tr>\n",
       "      <th>3</th>\n",
       "      <td>0.084679</td>\n",
       "      <td>qp02yc</td>\n",
       "      <td>0</td>\n",
       "      <td>3</td>\n",
       "      <td>-5.484924</td>\n",
       "      <td>90.653687</td>\n",
       "    </tr>\n",
       "    <tr>\n",
       "      <th>4</th>\n",
       "      <td>0.000000</td>\n",
       "      <td>qp02yc</td>\n",
       "      <td>0</td>\n",
       "      <td>4</td>\n",
       "      <td>-5.484924</td>\n",
       "      <td>90.653687</td>\n",
       "    </tr>\n",
       "  </tbody>\n",
       "</table>\n",
       "</div>"
      ],
      "text/plain": [
       "     demand geohash  timebin  day       lat        lon\n",
       "0  0.007733  qp02yc        0    0 -5.484924  90.653687\n",
       "1  0.010381  qp02yc        0    1 -5.484924  90.653687\n",
       "2  0.027875  qp02yc        0    2 -5.484924  90.653687\n",
       "3  0.084679  qp02yc        0    3 -5.484924  90.653687\n",
       "4  0.000000  qp02yc        0    4 -5.484924  90.653687"
      ]
     },
     "execution_count": 27,
     "metadata": {},
     "output_type": "execute_result"
    }
   ],
   "source": [
    "result.head()"
   ]
  },
  {
   "cell_type": "code",
   "execution_count": 3,
   "metadata": {},
   "outputs": [],
   "source": [
    "#result = result.to_csv('/Users/Celia/Desktop/Traffic Management/result.csv')"
   ]
  },
  {
   "cell_type": "code",
   "execution_count": 2,
   "metadata": {},
   "outputs": [],
   "source": [
    "result = pd.read_csv('/Users/Celia/Desktop/Traffic Management/result.csv',index_col=0)"
   ]
  },
  {
   "cell_type": "code",
   "execution_count": 5,
   "metadata": {},
   "outputs": [],
   "source": [
    "unique_geohash = result.geohash.unique().tolist()\n",
    "result['geohash_n'] = result.geohash.apply(lambda x: unique_geohash.index(x))\n"
   ]
  },
  {
   "cell_type": "code",
   "execution_count": 78,
   "metadata": {},
   "outputs": [
    {
     "data": {
      "text/html": [
       "<div>\n",
       "<style scoped>\n",
       "    .dataframe tbody tr th:only-of-type {\n",
       "        vertical-align: middle;\n",
       "    }\n",
       "\n",
       "    .dataframe tbody tr th {\n",
       "        vertical-align: top;\n",
       "    }\n",
       "\n",
       "    .dataframe thead th {\n",
       "        text-align: right;\n",
       "    }\n",
       "</style>\n",
       "<table border=\"1\" class=\"dataframe\">\n",
       "  <thead>\n",
       "    <tr style=\"text-align: right;\">\n",
       "      <th></th>\n",
       "      <th>demand</th>\n",
       "      <th>geohash</th>\n",
       "      <th>timebin</th>\n",
       "      <th>day</th>\n",
       "      <th>lat</th>\n",
       "      <th>lon</th>\n",
       "    </tr>\n",
       "  </thead>\n",
       "  <tbody>\n",
       "    <tr>\n",
       "      <th>0</th>\n",
       "      <td>0.007733</td>\n",
       "      <td>qp02yc</td>\n",
       "      <td>0</td>\n",
       "      <td>0</td>\n",
       "      <td>-5.484924</td>\n",
       "      <td>90.653687</td>\n",
       "    </tr>\n",
       "    <tr>\n",
       "      <th>1</th>\n",
       "      <td>0.010381</td>\n",
       "      <td>qp02yc</td>\n",
       "      <td>0</td>\n",
       "      <td>1</td>\n",
       "      <td>-5.484924</td>\n",
       "      <td>90.653687</td>\n",
       "    </tr>\n",
       "    <tr>\n",
       "      <th>2</th>\n",
       "      <td>0.027875</td>\n",
       "      <td>qp02yc</td>\n",
       "      <td>0</td>\n",
       "      <td>2</td>\n",
       "      <td>-5.484924</td>\n",
       "      <td>90.653687</td>\n",
       "    </tr>\n",
       "    <tr>\n",
       "      <th>3</th>\n",
       "      <td>0.084679</td>\n",
       "      <td>qp02yc</td>\n",
       "      <td>0</td>\n",
       "      <td>3</td>\n",
       "      <td>-5.484924</td>\n",
       "      <td>90.653687</td>\n",
       "    </tr>\n",
       "    <tr>\n",
       "      <th>4</th>\n",
       "      <td>0.000000</td>\n",
       "      <td>qp02yc</td>\n",
       "      <td>0</td>\n",
       "      <td>4</td>\n",
       "      <td>-5.484924</td>\n",
       "      <td>90.653687</td>\n",
       "    </tr>\n",
       "  </tbody>\n",
       "</table>\n",
       "</div>"
      ],
      "text/plain": [
       "     demand geohash  timebin  day       lat        lon\n",
       "0  0.007733  qp02yc        0    0 -5.484924  90.653687\n",
       "1  0.010381  qp02yc        0    1 -5.484924  90.653687\n",
       "2  0.027875  qp02yc        0    2 -5.484924  90.653687\n",
       "3  0.084679  qp02yc        0    3 -5.484924  90.653687\n",
       "4  0.000000  qp02yc        0    4 -5.484924  90.653687"
      ]
     },
     "execution_count": 78,
     "metadata": {},
     "output_type": "execute_result"
    }
   ],
   "source": [
    "result.head()"
   ]
  },
  {
   "cell_type": "code",
   "execution_count": 69,
   "metadata": {},
   "outputs": [],
   "source": [
    "Y = result[\"demand\"]\n",
    "X = result.drop(['demand','geohash'], axis=1)"
   ]
  },
  {
   "cell_type": "code",
   "execution_count": 70,
   "metadata": {},
   "outputs": [],
   "source": [
    "x_train, x_test, y_train, y_test = train_test_split(X, Y, test_size=0.2)"
   ]
  },
  {
   "cell_type": "code",
   "execution_count": 71,
   "metadata": {},
   "outputs": [
    {
     "data": {
      "text/plain": [
       "RandomForestRegressor(bootstrap=True, criterion='mse', max_depth=None,\n",
       "           max_features='sqrt', max_leaf_nodes=None,\n",
       "           min_impurity_decrease=0.0, min_impurity_split=None,\n",
       "           min_samples_leaf=4, min_samples_split=3,\n",
       "           min_weight_fraction_leaf=0.0, n_estimators=40, n_jobs=-1,\n",
       "           oob_score=False, random_state=None, verbose=0, warm_start=False)"
      ]
     },
     "execution_count": 71,
     "metadata": {},
     "output_type": "execute_result"
    }
   ],
   "source": [
    "#### Randomforest\n",
    "RFR = RandomForestRegressor(max_features='sqrt',min_samples_leaf=4,min_samples_split=3,n_estimators=40, n_jobs=-1)\n",
    "RFR.fit(x_train, y_train)"
   ]
  },
  {
   "cell_type": "code",
   "execution_count": 72,
   "metadata": {},
   "outputs": [],
   "source": [
    "RFRtrain_pred = RFR.predict(x_train)\n",
    "RFRtest_pred = RFR.predict(x_test)"
   ]
  },
  {
   "cell_type": "code",
   "execution_count": 73,
   "metadata": {},
   "outputs": [
    {
     "name": "stdout",
     "output_type": "stream",
     "text": [
      "RMSE (train) = 0.084025, RMSE (test) = 0.104904\n"
     ]
    }
   ],
   "source": [
    "rmse_train = np.sqrt(mean_squared_error(RFRtrain_pred, y_train))\n",
    "rmse_test = np.sqrt(mean_squared_error(RFRtest_pred, y_test))\n",
    "print (\"RMSE (train) = %0.6f, RMSE (test) = %0.6f\" % (rmse_train, rmse_test))"
   ]
  },
  {
   "cell_type": "code",
   "execution_count": null,
   "metadata": {},
   "outputs": [],
   "source": []
  },
  {
   "cell_type": "code",
   "execution_count": null,
   "metadata": {},
   "outputs": [],
   "source": []
  },
  {
   "cell_type": "markdown",
   "metadata": {},
   "source": [
    "However, we should notice that this is a time series problem, Random Forests don’t fit very well for increasing or decreasing trends which are usually encountered when dealing with time-series analysis, such as seasonality! An idea to further improve predictions using Random Forests is to flatten the data."
   ]
  },
  {
   "cell_type": "markdown",
   "metadata": {},
   "source": [
    "### Preparing time series format for training\n",
    "\n",
    "<p>A time series must be transformed into samples with input and output components. The transform both informs what the model will learn and how you intend to use the model in the future when making predictions, e.g. what is required to make a prediction (X) and what prediction is made (y).</p>"
   ]
  },
  {
   "cell_type": "markdown",
   "metadata": {},
   "source": [
    "#### Creating input features corresponding to the amount of taxi demand in the last five 15-min bins"
   ]
  },
  {
   "cell_type": "code",
   "execution_count": 3,
   "metadata": {},
   "outputs": [],
   "source": [
    "from numpy import array\n",
    "def split_sequence(sequence, n_steps):\n",
    "    X, y = list(), list()\n",
    "    for i in range(len(sequence)):\n",
    "        # find the end of this pattern\n",
    "        end_ix = i + n_steps\n",
    "        # check if we are beyond the sequence\n",
    "        if end_ix > len(sequence)-1:\n",
    "            break\n",
    "        # gather input and output parts of the pattern\n",
    "        seq_x, seq_y = sequence[i:end_ix], sequence[end_ix]\n",
    "        X.append(seq_x)\n",
    "        y.append(seq_y)\n",
    "    return array(X), array(y)"
   ]
  },
  {
   "cell_type": "code",
   "execution_count": 4,
   "metadata": {},
   "outputs": [],
   "source": [
    "df_sequence = np.asarray(list(range(96)))"
   ]
  },
  {
   "cell_type": "code",
   "execution_count": 5,
   "metadata": {},
   "outputs": [
    {
     "name": "stdout",
     "output_type": "stream",
     "text": [
      "(91, 5) (91,)\n",
      "[0 1 2 3 4] 5\n",
      "[1 2 3 4 5] 6\n",
      "[2 3 4 5 6] 7\n",
      "[3 4 5 6 7] 8\n",
      "[4 5 6 7 8] 9\n",
      "[5 6 7 8 9] 10\n",
      "[ 6  7  8  9 10] 11\n",
      "[ 7  8  9 10 11] 12\n",
      "[ 8  9 10 11 12] 13\n",
      "[ 9 10 11 12 13] 14\n",
      "[10 11 12 13 14] 15\n",
      "[11 12 13 14 15] 16\n",
      "[12 13 14 15 16] 17\n",
      "[13 14 15 16 17] 18\n",
      "[14 15 16 17 18] 19\n",
      "[15 16 17 18 19] 20\n",
      "[16 17 18 19 20] 21\n",
      "[17 18 19 20 21] 22\n",
      "[18 19 20 21 22] 23\n",
      "[19 20 21 22 23] 24\n",
      "[20 21 22 23 24] 25\n",
      "[21 22 23 24 25] 26\n",
      "[22 23 24 25 26] 27\n",
      "[23 24 25 26 27] 28\n",
      "[24 25 26 27 28] 29\n",
      "[25 26 27 28 29] 30\n",
      "[26 27 28 29 30] 31\n",
      "[27 28 29 30 31] 32\n",
      "[28 29 30 31 32] 33\n",
      "[29 30 31 32 33] 34\n",
      "[30 31 32 33 34] 35\n",
      "[31 32 33 34 35] 36\n",
      "[32 33 34 35 36] 37\n",
      "[33 34 35 36 37] 38\n",
      "[34 35 36 37 38] 39\n",
      "[35 36 37 38 39] 40\n",
      "[36 37 38 39 40] 41\n",
      "[37 38 39 40 41] 42\n",
      "[38 39 40 41 42] 43\n",
      "[39 40 41 42 43] 44\n",
      "[40 41 42 43 44] 45\n",
      "[41 42 43 44 45] 46\n",
      "[42 43 44 45 46] 47\n",
      "[43 44 45 46 47] 48\n",
      "[44 45 46 47 48] 49\n",
      "[45 46 47 48 49] 50\n",
      "[46 47 48 49 50] 51\n",
      "[47 48 49 50 51] 52\n",
      "[48 49 50 51 52] 53\n",
      "[49 50 51 52 53] 54\n",
      "[50 51 52 53 54] 55\n",
      "[51 52 53 54 55] 56\n",
      "[52 53 54 55 56] 57\n",
      "[53 54 55 56 57] 58\n",
      "[54 55 56 57 58] 59\n",
      "[55 56 57 58 59] 60\n",
      "[56 57 58 59 60] 61\n",
      "[57 58 59 60 61] 62\n",
      "[58 59 60 61 62] 63\n",
      "[59 60 61 62 63] 64\n",
      "[60 61 62 63 64] 65\n",
      "[61 62 63 64 65] 66\n",
      "[62 63 64 65 66] 67\n",
      "[63 64 65 66 67] 68\n",
      "[64 65 66 67 68] 69\n",
      "[65 66 67 68 69] 70\n",
      "[66 67 68 69 70] 71\n",
      "[67 68 69 70 71] 72\n",
      "[68 69 70 71 72] 73\n",
      "[69 70 71 72 73] 74\n",
      "[70 71 72 73 74] 75\n",
      "[71 72 73 74 75] 76\n",
      "[72 73 74 75 76] 77\n",
      "[73 74 75 76 77] 78\n",
      "[74 75 76 77 78] 79\n",
      "[75 76 77 78 79] 80\n",
      "[76 77 78 79 80] 81\n",
      "[77 78 79 80 81] 82\n",
      "[78 79 80 81 82] 83\n",
      "[79 80 81 82 83] 84\n",
      "[80 81 82 83 84] 85\n",
      "[81 82 83 84 85] 86\n",
      "[82 83 84 85 86] 87\n",
      "[83 84 85 86 87] 88\n",
      "[84 85 86 87 88] 89\n",
      "[85 86 87 88 89] 90\n",
      "[86 87 88 89 90] 91\n",
      "[87 88 89 90 91] 92\n",
      "[88 89 90 91 92] 93\n",
      "[89 90 91 92 93] 94\n",
      "[90 91 92 93 94] 95\n"
     ]
    }
   ],
   "source": [
    "X, y = split_sequence(df_sequence, 5)\n",
    "print(X.shape, y.shape)\n",
    "# # show each sample\n",
    "for i in range(len(X)):\n",
    "      print(X[i], y[i])"
   ]
  },
  {
   "cell_type": "markdown",
   "metadata": {},
   "source": [
    "Above is the new format we like to have"
   ]
  },
  {
   "cell_type": "code",
   "execution_count": 6,
   "metadata": {},
   "outputs": [],
   "source": [
    "def to_supervised(data, X):\n",
    "    totallist= []\n",
    "    for j in range (5):\n",
    "        regions = []\n",
    "        for geo in range(1329):\n",
    "            valuelist = []\n",
    "            for i in range (91):\n",
    "                index = X[i][j]\n",
    "                index = index + geo*96\n",
    "                num_list = data[index*7:(index+1)*7]\n",
    "                valuelist.extend(num_list)\n",
    "\n",
    "            regions.append(valuelist)   \n",
    "        totallist.append(regions)\n",
    "    return totallist"
   ]
  },
  {
   "cell_type": "code",
   "execution_count": 7,
   "metadata": {},
   "outputs": [],
   "source": [
    "X_inputs = to_supervised(result.demand.values, X)"
   ]
  },
  {
   "cell_type": "code",
   "execution_count": 8,
   "metadata": {},
   "outputs": [
    {
     "name": "stdout",
     "output_type": "stream",
     "text": [
      "5 1329 637\n"
     ]
    }
   ],
   "source": [
    "print(len(X_inputs),len(X_inputs[0]),len(X_inputs[0][0]))"
   ]
  },
  {
   "cell_type": "markdown",
   "metadata": {},
   "source": [
    "#### Creating the output variable (yi)"
   ]
  },
  {
   "cell_type": "code",
   "execution_count": 9,
   "metadata": {},
   "outputs": [],
   "source": [
    "def to_supervised(data, y):\n",
    "    totallist= []\n",
    "    regions = []\n",
    "    for geo in range(1329):\n",
    "        valuelist = []\n",
    "        for i in range (91):\n",
    "            index = y[i]\n",
    "            index = index + geo*96\n",
    "            num_list = data[index*7:(index+1)*7]\n",
    "            valuelist.extend(num_list)\n",
    "\n",
    "        regions.append(valuelist)   \n",
    "    totallist.append(regions)\n",
    "    return totallist "
   ]
  },
  {
   "cell_type": "code",
   "execution_count": 10,
   "metadata": {},
   "outputs": [],
   "source": [
    "output = to_supervised(result.demand.values, y)"
   ]
  },
  {
   "cell_type": "code",
   "execution_count": 11,
   "metadata": {},
   "outputs": [
    {
     "name": "stdout",
     "output_type": "stream",
     "text": [
      "1 1329 637\n"
     ]
    }
   ],
   "source": [
    "print(len(output),len(output[0]),len(output[0][0]))"
   ]
  },
  {
   "cell_type": "markdown",
   "metadata": {},
   "source": [
    "#### Train test split"
   ]
  },
  {
   "cell_type": "code",
   "execution_count": 12,
   "metadata": {},
   "outputs": [
    {
     "name": "stdout",
     "output_type": "stream",
     "text": [
      "size of train data : 72\n",
      "size of test data : 19\n"
     ]
    }
   ],
   "source": [
    "print(\"size of train data :\", int(91*0.8))      # First 70%\n",
    "print(\"size of test data :\", 91-int(91*0.8))  # Last 30%"
   ]
  },
  {
   "cell_type": "markdown",
   "metadata": {},
   "source": [
    "This means that, **from every geohash** the first 72 data points will go to the training set and the last 19 points will go to the test set.\n",
    "\n",
    "Thus:\n",
    "* Total no. of points in training set = 72\\*1329\\*7 = 669816\n",
    "* Total no. of points in test set = 19\\*1329\\*7 = 176757"
   ]
  },
  {
   "cell_type": "markdown",
   "metadata": {},
   "source": [
    "**Note**\n",
    "<p>In applied machine learning, we often split our data into a train and a test set: the training set used to prepare the model and the test set used to evaluate it.However,these methods cannot be directly used with time series data.This is because they assume that there is no relationship between the observations, that each observation is independent.This is not true of time series data, where the time dimension of observations means that we cannot randomly split them into groups. Instead, we must split data up and respect the temporal order in which values were observed.</p>"
   ]
  },
  {
   "cell_type": "code",
   "execution_count": 13,
   "metadata": {},
   "outputs": [],
   "source": [
    "def timeseries_train_test_split_for_inputs(X, train_size):\n",
    "    \"\"\"\n",
    "        Perform train-test split with respect to time series structure\n",
    "    \"\"\"\n",
    "    \n",
    "        # get the index after which test set starts\n",
    "    Xtrain_features = []\n",
    "    Xtest_features = []\n",
    "    for i in range (5):\n",
    "        train_list = [] \n",
    "        test_list = []\n",
    "        for num in range (1329):\n",
    "            trains = X[i][num][:train_size*7]\n",
    "            tests = X[i][num][train_size*7:]\n",
    "            train_list.extend(trains)\n",
    "            test_list.extend(tests)\n",
    "        Xtrain_features.append(train_list)\n",
    "        Xtest_features.append(test_list)\n",
    "    \n",
    "    return Xtrain_features, Xtest_features"
   ]
  },
  {
   "cell_type": "code",
   "execution_count": 15,
   "metadata": {},
   "outputs": [],
   "source": [
    "Xtrain_features, Xtest_features = timeseries_train_test_split_for_inputs(X_inputs, 72)"
   ]
  },
  {
   "cell_type": "code",
   "execution_count": 16,
   "metadata": {},
   "outputs": [
    {
     "name": "stdout",
     "output_type": "stream",
     "text": [
      "669816 176757\n"
     ]
    }
   ],
   "source": [
    "print(len(Xtrain_features[0]),len(Xtest_features[0]))"
   ]
  },
  {
   "cell_type": "code",
   "execution_count": 17,
   "metadata": {},
   "outputs": [],
   "source": [
    "def timeseries_train_test_split_for_outputs(y, train_size):\n",
    "    \"\"\"\n",
    "        Perform train-test split with respect to time series structure\n",
    "    \"\"\"\n",
    "    ytrain_features = []\n",
    "    ytest_features = []\n",
    "    for i in range (1329):\n",
    "        ytrain_features.extend(y[0][i][:train_size*7])\n",
    "        ytest_features.extend(y[0][i][train_size*7:])\n",
    "    return ytrain_features , ytest_features"
   ]
  },
  {
   "cell_type": "code",
   "execution_count": 18,
   "metadata": {},
   "outputs": [],
   "source": [
    "ytrain_features, ytest_features = timeseries_train_test_split_for_outputs(output,72)"
   ]
  },
  {
   "cell_type": "code",
   "execution_count": 19,
   "metadata": {},
   "outputs": [
    {
     "name": "stdout",
     "output_type": "stream",
     "text": [
      "669816 176757\n"
     ]
    }
   ],
   "source": [
    "print(len(ytrain_features),len(ytest_features))"
   ]
  },
  {
   "cell_type": "code",
   "execution_count": null,
   "metadata": {},
   "outputs": [],
   "source": []
  },
  {
   "cell_type": "markdown",
   "metadata": {},
   "source": [
    "#### Creating latitude and Longitude  and day features"
   ]
  },
  {
   "cell_type": "code",
   "execution_count": 20,
   "metadata": {},
   "outputs": [],
   "source": [
    "latitude = result.lat.values\n",
    "longitude = result.lon.values\n",
    "day = result.day.values"
   ]
  },
  {
   "cell_type": "code",
   "execution_count": 21,
   "metadata": {},
   "outputs": [],
   "source": [
    "train_lats = []\n",
    "test_lats = []\n",
    "train_lons = []\n",
    "test_lons = []\n",
    "for num in range (1329):\n",
    "    index = num*96*7\n",
    "    train_lats += 72*7*[latitude[index]]\n",
    "    train_lons += 72*7*[longitude[index]]\n",
    "    test_lats += 19*7*[latitude[index]]\n",
    "    test_lons += 19*7*[longitude[index]]"
   ]
  },
  {
   "cell_type": "code",
   "execution_count": 22,
   "metadata": {},
   "outputs": [
    {
     "name": "stdout",
     "output_type": "stream",
     "text": [
      "669816 669816 176757 176757\n"
     ]
    }
   ],
   "source": [
    "print(len(train_lats),len(train_lons),len(test_lats),len(test_lons))"
   ]
  },
  {
   "cell_type": "code",
   "execution_count": 23,
   "metadata": {},
   "outputs": [],
   "source": [
    "train_days = []\n",
    "train_days += 72*1329*[list(set(day))]\n",
    "train_days = sum(train_days, [])\n",
    "test_days = []\n",
    "test_days += 19*1329*[list(set(day))]\n",
    "test_days = sum(test_days, [])"
   ]
  },
  {
   "cell_type": "code",
   "execution_count": 24,
   "metadata": {},
   "outputs": [
    {
     "name": "stdout",
     "output_type": "stream",
     "text": [
      "669816 176757\n"
     ]
    }
   ],
   "source": [
    "print(len(train_days),len(test_days))"
   ]
  },
  {
   "cell_type": "code",
   "execution_count": 25,
   "metadata": {},
   "outputs": [],
   "source": [
    "# prepare for  train dataframe\n",
    "X_train = pd.DataFrame()\n",
    "X_train['ft_5'] = Xtrain_features [0]\n",
    "X_train['ft_4'] = Xtrain_features [1]\n",
    "X_train['ft_3'] = Xtrain_features [2]\n",
    "X_train['ft_2'] = Xtrain_features [3]\n",
    "X_train['ft_1'] = Xtrain_features [4]\n",
    "X_train['lat'] = train_lats\n",
    "X_train['lon'] = train_lons\n",
    "X_train['day'] = train_days"
   ]
  },
  {
   "cell_type": "code",
   "execution_count": 26,
   "metadata": {},
   "outputs": [],
   "source": [
    "# prepare for test dataframe\n",
    "X_test = pd.DataFrame()\n",
    "X_test['ft_5'] = Xtest_features [0]\n",
    "X_test['ft_4'] = Xtest_features [1]\n",
    "X_test['ft_3'] = Xtest_features [2]\n",
    "X_test['ft_2'] = Xtest_features [3]\n",
    "X_test['ft_1'] = Xtest_features [4]\n",
    "X_test['lat'] = test_lats\n",
    "X_test['lon'] = test_lons\n",
    "X_test['day'] = test_days"
   ]
  },
  {
   "cell_type": "code",
   "execution_count": 27,
   "metadata": {},
   "outputs": [
    {
     "data": {
      "text/html": [
       "<div>\n",
       "<style scoped>\n",
       "    .dataframe tbody tr th:only-of-type {\n",
       "        vertical-align: middle;\n",
       "    }\n",
       "\n",
       "    .dataframe tbody tr th {\n",
       "        vertical-align: top;\n",
       "    }\n",
       "\n",
       "    .dataframe thead th {\n",
       "        text-align: right;\n",
       "    }\n",
       "</style>\n",
       "<table border=\"1\" class=\"dataframe\">\n",
       "  <thead>\n",
       "    <tr style=\"text-align: right;\">\n",
       "      <th></th>\n",
       "      <th>ft_5</th>\n",
       "      <th>ft_4</th>\n",
       "      <th>ft_3</th>\n",
       "      <th>ft_2</th>\n",
       "      <th>ft_1</th>\n",
       "      <th>lat</th>\n",
       "      <th>lon</th>\n",
       "      <th>day</th>\n",
       "    </tr>\n",
       "  </thead>\n",
       "  <tbody>\n",
       "    <tr>\n",
       "      <th>0</th>\n",
       "      <td>0.007733</td>\n",
       "      <td>0.000000</td>\n",
       "      <td>0.0</td>\n",
       "      <td>0.000000</td>\n",
       "      <td>0.000190</td>\n",
       "      <td>-5.484924</td>\n",
       "      <td>90.653687</td>\n",
       "      <td>0</td>\n",
       "    </tr>\n",
       "    <tr>\n",
       "      <th>1</th>\n",
       "      <td>0.010381</td>\n",
       "      <td>0.000000</td>\n",
       "      <td>0.0</td>\n",
       "      <td>0.000000</td>\n",
       "      <td>0.000000</td>\n",
       "      <td>-5.484924</td>\n",
       "      <td>90.653687</td>\n",
       "      <td>1</td>\n",
       "    </tr>\n",
       "    <tr>\n",
       "      <th>2</th>\n",
       "      <td>0.027875</td>\n",
       "      <td>0.000000</td>\n",
       "      <td>0.0</td>\n",
       "      <td>0.000000</td>\n",
       "      <td>0.000000</td>\n",
       "      <td>-5.484924</td>\n",
       "      <td>90.653687</td>\n",
       "      <td>2</td>\n",
       "    </tr>\n",
       "    <tr>\n",
       "      <th>3</th>\n",
       "      <td>0.084679</td>\n",
       "      <td>0.013571</td>\n",
       "      <td>0.0</td>\n",
       "      <td>0.015341</td>\n",
       "      <td>0.090787</td>\n",
       "      <td>-5.484924</td>\n",
       "      <td>90.653687</td>\n",
       "      <td>3</td>\n",
       "    </tr>\n",
       "    <tr>\n",
       "      <th>4</th>\n",
       "      <td>0.000000</td>\n",
       "      <td>0.000000</td>\n",
       "      <td>0.0</td>\n",
       "      <td>0.000000</td>\n",
       "      <td>0.010794</td>\n",
       "      <td>-5.484924</td>\n",
       "      <td>90.653687</td>\n",
       "      <td>4</td>\n",
       "    </tr>\n",
       "  </tbody>\n",
       "</table>\n",
       "</div>"
      ],
      "text/plain": [
       "       ft_5      ft_4  ft_3      ft_2      ft_1       lat        lon  day\n",
       "0  0.007733  0.000000   0.0  0.000000  0.000190 -5.484924  90.653687    0\n",
       "1  0.010381  0.000000   0.0  0.000000  0.000000 -5.484924  90.653687    1\n",
       "2  0.027875  0.000000   0.0  0.000000  0.000000 -5.484924  90.653687    2\n",
       "3  0.084679  0.013571   0.0  0.015341  0.090787 -5.484924  90.653687    3\n",
       "4  0.000000  0.000000   0.0  0.000000  0.010794 -5.484924  90.653687    4"
      ]
     },
     "execution_count": 27,
     "metadata": {},
     "output_type": "execute_result"
    }
   ],
   "source": [
    "X_train.head()"
   ]
  },
  {
   "cell_type": "code",
   "execution_count": 28,
   "metadata": {},
   "outputs": [],
   "source": [
    "X_train, X_test, y_train, y_test = X_train, X_test, ytrain_features, ytest_features"
   ]
  },
  {
   "cell_type": "markdown",
   "metadata": {},
   "source": [
    "### Modeling"
   ]
  },
  {
   "cell_type": "markdown",
   "metadata": {},
   "source": [
    "#### Randomforest"
   ]
  },
  {
   "cell_type": "code",
   "execution_count": 101,
   "metadata": {},
   "outputs": [],
   "source": [
    "#### Randomforest\n",
    "RFR = RandomForestRegressor(max_features='sqrt',min_samples_leaf=4,min_samples_split=3,n_estimators=40, n_jobs=-1)\n",
    "RFR.fit(X_train, y_train)\n",
    "\n",
    "RFRtrain_pred = RFR.predict(X_train)\n",
    "RFRtest_pred = RFR.predict(X_test)"
   ]
  },
  {
   "cell_type": "code",
   "execution_count": 102,
   "metadata": {},
   "outputs": [
    {
     "name": "stdout",
     "output_type": "stream",
     "text": [
      " RMSE (train) = 0.070520, RMSE (test) = 0.091750\n"
     ]
    }
   ],
   "source": [
    "rmse_train = np.sqrt(mean_squared_error(RFRtrain_pred, y_train))\n",
    "rmse_test = np.sqrt(mean_squared_error(RFRtest_pred, y_test))\n",
    "print (\" RMSE (train) = %0.6f, RMSE (test) = %0.6f\" % (rmse_train, rmse_test))"
   ]
  },
  {
   "cell_type": "code",
   "execution_count": 107,
   "metadata": {},
   "outputs": [
    {
     "data": {
      "text/plain": [
       "<matplotlib.axes._subplots.AxesSubplot at 0x159eab470>"
      ]
     },
     "execution_count": 107,
     "metadata": {},
     "output_type": "execute_result"
    },
    {
     "data": {
      "image/png": "[encoded data removed]",
      "text/plain": [
       "<Figure size 432x288 with 1 Axes>"
      ]
     },
     "metadata": {},
     "output_type": "display_data"
    }
   ],
   "source": [
    "## future importance\n",
    "plt.title('Feature Importances')\n",
    "feat_importances = pd.Series(RFR.feature_importances_, index = X_train.columns)\n",
    "feat_importances.plot(kind='barh')"
   ]
  },
  {
   "cell_type": "markdown",
   "metadata": {},
   "source": [
    "#### Xgboost"
   ]
  },
  {
   "cell_type": "code",
   "execution_count": 103,
   "metadata": {},
   "outputs": [
    {
     "data": {
      "text/plain": [
       "XGBRegressor(base_score=0.5, booster='gbtree', colsample_bylevel=1,\n",
       "       colsample_bytree=0.8, gamma=0, importance_type='gain',\n",
       "       learning_rate=0.1, max_delta_step=0, max_depth=3,\n",
       "       min_child_weight=3, missing=None, n_estimators=500, n_jobs=1,\n",
       "       nthread=4, objective='reg:linear', random_state=0, reg_alpha=200,\n",
       "       reg_lambda=200, scale_pos_weight=1, seed=None, silent=True,\n",
       "       subsample=0.8)"
      ]
     },
     "execution_count": 103,
     "metadata": {},
     "output_type": "execute_result"
    }
   ],
   "source": [
    "#### Xgboost\n",
    "\n",
    "x_model = xgb.XGBRegressor(\n",
    " learning_rate =0.1,\n",
    " n_estimators=500,\n",
    " max_depth=3,\n",
    " min_child_weight=3,\n",
    " gamma=0,\n",
    " subsample=0.8,\n",
    " reg_alpha=200, reg_lambda=200,\n",
    " colsample_bytree=0.8,nthread=4)\n",
    "x_model.fit(X_train, y_train)"
   ]
  },
  {
   "cell_type": "code",
   "execution_count": 104,
   "metadata": {},
   "outputs": [],
   "source": [
    "#predicting with our trained Xg-Boost regressor\n",
    "# the models x_model is already hyper parameter tuned\n",
    "# the parameters that we got above are found using grid search\n",
    "\n",
    "train_pred = x_model.predict(X_train)\n",
    "test_pred = x_model.predict(X_test)"
   ]
  },
  {
   "cell_type": "code",
   "execution_count": 105,
   "metadata": {},
   "outputs": [
    {
     "name": "stdout",
     "output_type": "stream",
     "text": [
      "RMSE (train) = 0.102508, RMSE (test) = 0.088560\n"
     ]
    }
   ],
   "source": [
    "rmse_train = np.sqrt(mean_squared_error(train_pred, y_train))\n",
    "rmse_test = np.sqrt(mean_squared_error(test_pred, y_test))\n",
    "print (\"RMSE (train) = %0.6f, RMSE (test) = %0.6f\" % (rmse_train, rmse_test))"
   ]
  },
  {
   "cell_type": "code",
   "execution_count": 106,
   "metadata": {},
   "outputs": [
    {
     "data": {
      "text/plain": [
       "<matplotlib.axes._subplots.AxesSubplot at 0x1490368d0>"
      ]
     },
     "execution_count": 106,
     "metadata": {},
     "output_type": "execute_result"
    },
    {
     "data": {
      "image/png": "[encoded data removed]",
      "text/plain": [
       "<Figure size 432x288 with 1 Axes>"
      ]
     },
     "metadata": {},
     "output_type": "display_data"
    }
   ],
   "source": [
    "## future importance\n",
    "xgb.plot_importance(x_model, importance_type = 'weight')"
   ]
  },
  {
   "cell_type": "markdown",
   "metadata": {},
   "source": [
    "#### LSTM model"
   ]
  },
  {
   "cell_type": "code",
   "execution_count": 29,
   "metadata": {},
   "outputs": [],
   "source": [
    "XLSTM_train = X_train.drop(['lat','lon','day'],axis=1)\n",
    "XLSTM_test = X_test.drop(['lat','lon','day'],axis=1)"
   ]
  },
  {
   "cell_type": "code",
   "execution_count": 30,
   "metadata": {},
   "outputs": [],
   "source": [
    "XLSTM_train = XLSTM_train.values\n",
    "XLSTM_test = XLSTM_test.values"
   ]
  },
  {
   "cell_type": "code",
   "execution_count": 32,
   "metadata": {},
   "outputs": [],
   "source": []
  },
  {
   "cell_type": "code",
   "execution_count": 31,
   "metadata": {},
   "outputs": [],
   "source": [
    "X_train, X_test, y_train, y_test = XLSTM_train, XLSTM_test, ytrain_features, ytest_features"
   ]
  },
  {
   "cell_type": "code",
   "execution_count": 32,
   "metadata": {},
   "outputs": [
    {
     "name": "stdout",
     "output_type": "stream",
     "text": [
      "(669816, 5) 669816\n"
     ]
    }
   ],
   "source": [
    "print(X_train.shape,len(y_train))"
   ]
  },
  {
   "cell_type": "code",
   "execution_count": 33,
   "metadata": {},
   "outputs": [
    {
     "name": "stdout",
     "output_type": "stream",
     "text": [
      "(176757, 5) 176757\n"
     ]
    }
   ],
   "source": [
    "print(X_test.shape,len(y_test))"
   ]
  },
  {
   "cell_type": "code",
   "execution_count": 34,
   "metadata": {},
   "outputs": [],
   "source": [
    "# reshape input to be 3D [samples, timesteps, features]\n",
    "X_train = X_train.reshape((X_train.shape[0], X_train.shape[1], 1))\n",
    "X_test = X_test.reshape((X_test.shape[0], X_test.shape[1], 1))"
   ]
  },
  {
   "cell_type": "code",
   "execution_count": 35,
   "metadata": {},
   "outputs": [
    {
     "name": "stdout",
     "output_type": "stream",
     "text": [
      "(669816, 5, 1) (176757, 5, 1)\n"
     ]
    }
   ],
   "source": [
    "print(X_train.shape,X_test.shape)"
   ]
  },
  {
   "cell_type": "code",
   "execution_count": 36,
   "metadata": {},
   "outputs": [
    {
     "name": "stdout",
     "output_type": "stream",
     "text": [
      "WARNING:tensorflow:From /Library/Frameworks/Python.framework/Versions/3.6/lib/python3.6/site-packages/tensorflow/python/framework/op_def_library.py:263: colocate_with (from tensorflow.python.framework.ops) is deprecated and will be removed in a future version.\n",
      "Instructions for updating:\n",
      "Colocations handled automatically by placer.\n"
     ]
    }
   ],
   "source": [
    "# define model\n",
    "n_steps = 5\n",
    "n_features = 1\n",
    "\n",
    "model = Sequential()\n",
    "model.add(LSTM(24, input_shape=(n_steps, n_features))) \n",
    "model.add(Dense(1))\n",
    "model.compile(optimizer='adam', loss='mse')"
   ]
  },
  {
   "cell_type": "code",
   "execution_count": 37,
   "metadata": {},
   "outputs": [
    {
     "name": "stdout",
     "output_type": "stream",
     "text": [
      "WARNING:tensorflow:From /Library/Frameworks/Python.framework/Versions/3.6/lib/python3.6/site-packages/tensorflow/python/ops/math_ops.py:3066: to_int32 (from tensorflow.python.ops.math_ops) is deprecated and will be removed in a future version.\n",
      "Instructions for updating:\n",
      "Use tf.cast instead.\n",
      "Train on 669816 samples, validate on 176757 samples\n",
      "Epoch 1/80\n",
      " - 51s - loss: 0.0505 - val_loss: 0.0080\n",
      "Epoch 2/80\n",
      " - 49s - loss: 0.0128 - val_loss: 0.0071\n",
      "Epoch 3/80\n",
      " - 47s - loss: 0.0117 - val_loss: 0.0071\n",
      "Epoch 4/80\n",
      " - 47s - loss: 0.0115 - val_loss: 0.0071\n",
      "Epoch 5/80\n",
      " - 47s - loss: 0.0113 - val_loss: 0.0070\n",
      "Epoch 6/80\n",
      " - 48s - loss: 0.0110 - val_loss: 0.0071\n",
      "Epoch 7/80\n",
      " - 1997s - loss: 0.0110 - val_loss: 0.0070\n",
      "Epoch 8/80\n",
      " - 48s - loss: 0.0109 - val_loss: 0.0072\n",
      "Epoch 9/80\n",
      " - 48s - loss: 0.0109 - val_loss: 0.0071\n",
      "Epoch 10/80\n",
      " - 47s - loss: 0.0108 - val_loss: 0.0072\n",
      "Epoch 11/80\n",
      " - 48s - loss: 0.0109 - val_loss: 0.0072\n",
      "Epoch 12/80\n",
      " - 48s - loss: 0.0108 - val_loss: 0.0070\n",
      "Epoch 13/80\n",
      " - 51s - loss: 0.0107 - val_loss: 0.0069\n",
      "Epoch 14/80\n",
      " - 49s - loss: 0.0106 - val_loss: 0.0071\n",
      "Epoch 15/80\n",
      " - 50s - loss: 0.0107 - val_loss: 0.0072\n",
      "Epoch 16/80\n",
      " - 50s - loss: 0.0107 - val_loss: 0.0072\n",
      "Epoch 17/80\n",
      " - 49s - loss: 0.0107 - val_loss: 0.0072\n",
      "Epoch 18/80\n",
      " - 53s - loss: 0.0108 - val_loss: 0.0071\n",
      "Epoch 19/80\n",
      " - 50s - loss: 0.0107 - val_loss: 0.0072\n",
      "Epoch 20/80\n",
      " - 53s - loss: 0.0107 - val_loss: 0.0072\n",
      "Epoch 21/80\n",
      " - 48s - loss: 0.0107 - val_loss: 0.0072\n",
      "Epoch 22/80\n",
      " - 49s - loss: 0.0106 - val_loss: 0.0072\n",
      "Epoch 23/80\n",
      " - 47s - loss: 0.0106 - val_loss: 0.0072\n",
      "Epoch 24/80\n",
      " - 47s - loss: 0.0106 - val_loss: 0.0072\n",
      "Epoch 25/80\n",
      " - 47s - loss: 0.0106 - val_loss: 0.0071\n",
      "Epoch 26/80\n",
      " - 48s - loss: 0.0106 - val_loss: 0.0073\n",
      "Epoch 27/80\n",
      " - 48s - loss: 0.0105 - val_loss: 0.0073\n",
      "Epoch 28/80\n",
      " - 405s - loss: 0.0105 - val_loss: 0.0073\n",
      "Epoch 29/80\n",
      " - 2240s - loss: 0.0105 - val_loss: 0.0071\n",
      "Epoch 30/80\n",
      " - 53s - loss: 0.0104 - val_loss: 0.0072\n",
      "Epoch 31/80\n",
      " - 48s - loss: 0.0105 - val_loss: 0.0071\n",
      "Epoch 32/80\n",
      " - 48s - loss: 0.0104 - val_loss: 0.0072\n",
      "Epoch 33/80\n",
      " - 51s - loss: 0.0104 - val_loss: 0.0073\n",
      "Epoch 34/80\n",
      " - 48s - loss: 0.0104 - val_loss: 0.0074\n",
      "Epoch 35/80\n",
      " - 52s - loss: 0.0104 - val_loss: 0.0073\n",
      "Epoch 36/80\n",
      " - 51s - loss: 0.0103 - val_loss: 0.0074\n",
      "Epoch 37/80\n",
      " - 54s - loss: 0.0103 - val_loss: 0.0073\n",
      "Epoch 38/80\n",
      " - 53s - loss: 0.0103 - val_loss: 0.0075\n",
      "Epoch 39/80\n",
      " - 50s - loss: 0.0102 - val_loss: 0.0075\n",
      "Epoch 40/80\n",
      " - 55s - loss: 0.0102 - val_loss: 0.0074\n",
      "Epoch 41/80\n",
      " - 51s - loss: 0.0102 - val_loss: 0.0074\n",
      "Epoch 42/80\n",
      " - 51s - loss: 0.0102 - val_loss: 0.0075\n",
      "Epoch 43/80\n",
      " - 50s - loss: 0.0102 - val_loss: 0.0074\n",
      "Epoch 44/80\n",
      " - 49s - loss: 0.0102 - val_loss: 0.0075\n",
      "Epoch 45/80\n",
      " - 51s - loss: 0.0102 - val_loss: 0.0075\n",
      "Epoch 46/80\n",
      " - 51s - loss: 0.0102 - val_loss: 0.0075\n",
      "Epoch 47/80\n",
      " - 51s - loss: 0.0102 - val_loss: 0.0074\n",
      "Epoch 48/80\n",
      " - 48s - loss: 0.0101 - val_loss: 0.0075\n",
      "Epoch 49/80\n",
      " - 51s - loss: 0.0102 - val_loss: 0.0075\n",
      "Epoch 50/80\n",
      " - 52s - loss: 0.0102 - val_loss: 0.0075\n",
      "Epoch 51/80\n",
      " - 51s - loss: 0.0101 - val_loss: 0.0075\n",
      "Epoch 52/80\n",
      " - 52s - loss: 0.0101 - val_loss: 0.0075\n",
      "Epoch 53/80\n",
      " - 64s - loss: 0.0101 - val_loss: 0.0075\n",
      "Epoch 54/80\n",
      " - 61s - loss: 0.0101 - val_loss: 0.0075\n",
      "Epoch 55/80\n",
      " - 60s - loss: 0.0101 - val_loss: 0.0075\n",
      "Epoch 56/80\n",
      " - 60s - loss: 0.0101 - val_loss: 0.0075\n",
      "Epoch 57/80\n",
      " - 65s - loss: 0.0101 - val_loss: 0.0075\n",
      "Epoch 58/80\n",
      " - 65s - loss: 0.0101 - val_loss: 0.0075\n",
      "Epoch 59/80\n",
      " - 65s - loss: 0.0101 - val_loss: 0.0075\n",
      "Epoch 60/80\n",
      " - 63s - loss: 0.0101 - val_loss: 0.0076\n",
      "Epoch 61/80\n",
      " - 53s - loss: 0.0101 - val_loss: 0.0076\n",
      "Epoch 62/80\n",
      " - 62s - loss: 0.0101 - val_loss: 0.0075\n",
      "Epoch 63/80\n",
      " - 49s - loss: 0.0101 - val_loss: 0.0075\n",
      "Epoch 64/80\n",
      " - 49s - loss: 0.0101 - val_loss: 0.0076\n",
      "Epoch 65/80\n",
      " - 53s - loss: 0.0101 - val_loss: 0.0076\n",
      "Epoch 66/80\n",
      " - 52s - loss: 0.0100 - val_loss: 0.0076\n",
      "Epoch 67/80\n",
      " - 48s - loss: 0.0101 - val_loss: 0.0076\n",
      "Epoch 68/80\n",
      " - 48s - loss: 0.0100 - val_loss: 0.0077\n",
      "Epoch 69/80\n",
      " - 48s - loss: 0.0100 - val_loss: 0.0076\n",
      "Epoch 70/80\n",
      " - 50s - loss: 0.0100 - val_loss: 0.0076\n",
      "Epoch 71/80\n",
      " - 56s - loss: 0.0100 - val_loss: 0.0076\n",
      "Epoch 72/80\n",
      " - 51s - loss: 0.0100 - val_loss: 0.0076\n",
      "Epoch 73/80\n",
      " - 51s - loss: 0.0100 - val_loss: 0.0076\n",
      "Epoch 74/80\n",
      " - 52s - loss: 0.0100 - val_loss: 0.0075\n",
      "Epoch 75/80\n",
      " - 52s - loss: 0.0100 - val_loss: 0.0076\n",
      "Epoch 76/80\n",
      " - 52s - loss: 0.0100 - val_loss: 0.0076\n",
      "Epoch 77/80\n",
      " - 54s - loss: 0.0100 - val_loss: 0.0075\n",
      "Epoch 78/80\n",
      " - 57s - loss: 0.0100 - val_loss: 0.0075\n",
      "Epoch 79/80\n",
      " - 52s - loss: 0.0100 - val_loss: 0.0075\n",
      "Epoch 80/80\n",
      " - 60s - loss: 0.0100 - val_loss: 0.0075\n"
     ]
    }
   ],
   "source": [
    "# fit model\n",
    "history = model.fit(X_train, y_train, epochs=80, batch_size=100,\n",
    "                    validation_data=(X_test, y_test), verbose=2, shuffle=False)"
   ]
  },
  {
   "cell_type": "code",
   "execution_count": 38,
   "metadata": {},
   "outputs": [
    {
     "data": {
      "text/plain": [
       "<matplotlib.axes._subplots.AxesSubplot at 0x1429e2fd0>"
      ]
     },
     "execution_count": 38,
     "metadata": {},
     "output_type": "execute_result"
    },
    {
     "data": {
      "image/png": "[encoded data removed]",
      "text/plain": [
       "<Figure size 720x720 with 1 Axes>"
      ]
     },
     "metadata": {},
     "output_type": "display_data"
    }
   ],
   "source": [
    "history_loss = pd.DataFrame()\n",
    "history_loss['train'] = history.history['loss']\n",
    "history_loss['test'] = history.history['val_loss']\n",
    "history_loss.plot(figsize=(10,10), fontsize=16,\n",
    "                title='LSTM Model Loss')"
   ]
  },
  {
   "cell_type": "code",
   "execution_count": 39,
   "metadata": {},
   "outputs": [],
   "source": [
    "# make a prediction\n",
    "yhat = model.predict(X_test)"
   ]
  },
  {
   "cell_type": "code",
   "execution_count": 40,
   "metadata": {},
   "outputs": [
    {
     "name": "stdout",
     "output_type": "stream",
     "text": [
      "Test RMSE: 0.086824\n"
     ]
    }
   ],
   "source": [
    "# calculate RMSE\n",
    "rmse = np.sqrt(mean_squared_error(y_test, yhat))\n",
    "print('Test RMSE: %.6f' % rmse)"
   ]
  },
  {
   "cell_type": "code",
   "execution_count": null,
   "metadata": {},
   "outputs": [],
   "source": []
  },
  {
   "cell_type": "code",
   "execution_count": null,
   "metadata": {},
   "outputs": [],
   "source": []
  },
  {
   "cell_type": "code",
   "execution_count": null,
   "metadata": {},
   "outputs": [],
   "source": []
  }
 ],
 "metadata": {
  "kernelspec": {
   "display_name": "Python 3",
   "language": "python",
   "name": "python3"
  },
  "language_info": {
   "codemirror_mode": {
    "name": "ipython",
    "version": 3
   },
   "file_extension": ".py",
   "mimetype": "text/x-python",
   "name": "python",
   "nbconvert_exporter": "python",
   "pygments_lexer": "ipython3",
   "version": "3.6.4"
  }
 },
 "nbformat": 4,
 "nbformat_minor": 2
}
