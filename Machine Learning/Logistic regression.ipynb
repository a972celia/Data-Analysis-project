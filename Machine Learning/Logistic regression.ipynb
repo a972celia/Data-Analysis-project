{
 "cells": [
  {
   "cell_type": "code",
   "execution_count": 1,
   "metadata": {},
   "outputs": [],
   "source": [
    "import numpy as np\n",
    "import pandas as pd\n",
    "import matplotlib.pyplot as plt\n",
    "%matplotlib inline\n",
    "import sklearn\n",
    "from sklearn.model_selection import train_test_split\n",
    "from sklearn.metrics import accuracy_score"
   ]
  },
  {
   "cell_type": "code",
   "execution_count": 2,
   "metadata": {},
   "outputs": [],
   "source": [
    "from sklearn import datasets\n",
    "iris = datasets.load_iris()"
   ]
  },
  {
   "cell_type": "code",
   "execution_count": 3,
   "metadata": {},
   "outputs": [
    {
     "data": {
      "text/plain": [
       "['data', 'target', 'target_names', 'DESCR', 'feature_names', 'filename']"
      ]
     },
     "execution_count": 3,
     "metadata": {},
     "output_type": "execute_result"
    }
   ],
   "source": [
    "list(iris.keys())"
   ]
  },
  {
   "cell_type": "code",
   "execution_count": 4,
   "metadata": {},
   "outputs": [],
   "source": [
    "iris_data = iris['data']\n",
    "iris_target = np.where(iris[\"target\"]==0,1,0)"
   ]
  },
  {
   "cell_type": "code",
   "execution_count": 5,
   "metadata": {},
   "outputs": [],
   "source": [
    "X_train, X_test, y_train, y_test = train_test_split(iris_data,iris_target,test_size = 0.2)"
   ]
  },
  {
   "cell_type": "code",
   "execution_count": 6,
   "metadata": {},
   "outputs": [],
   "source": [
    "def weight_initial(n_features):\n",
    "    weight = np.zeros((1,n_features))\n",
    "    bias = 0\n",
    "    return weight,bias"
   ]
  },
  {
   "cell_type": "code",
   "execution_count": 7,
   "metadata": {},
   "outputs": [],
   "source": [
    "def logistic(z):\n",
    "    y_hat = 1/(1 + np.exp(-z))\n",
    "    return y_hat"
   ]
  },
  {
   "cell_type": "code",
   "execution_count": 8,
   "metadata": {},
   "outputs": [],
   "source": [
    "def model_optimize(weight, bias, X, Y):\n",
    "    m = X.shape[0]\n",
    "    \n",
    "    #Prediction\n",
    "    y_hat = logistic(np.dot(weight,X.T) + bias)\n",
    "    truth = Y.T\n",
    "    cost = (-1/m)*(np.sum((truth * np.log(y_hat)) + ((1 - truth)*(np.log(1 - y_hat)))))\n",
    "    \n",
    "    #Gradient Descent\n",
    "    delta_weight = (1/m) * (np.dot( X.T, ( y_hat - Y.T ).T))\n",
    "    delta_bias = (1/m) * (np.sum( y_hat - Y.T))\n",
    "    \n",
    "    grads = {'delta_weight': delta_weight, 'delta_bias': delta_bias}\n",
    "    \n",
    "    return grads, cost"
   ]
  },
  {
   "cell_type": "code",
   "execution_count": 9,
   "metadata": {},
   "outputs": [],
   "source": [
    "def model_predict(weight, bias, X, Y, learning_rate, no_iterations):\n",
    "    costs = []\n",
    "    for i in range (no_iterations):\n",
    "        \n",
    "        grads,cost = model_optimize(weight, bias, X, Y)\n",
    "        delta_weight = grads['delta_weight']\n",
    "        delta_bias = grads['delta_bias']\n",
    "        \n",
    "        #weight update\n",
    "        weight = weight - (learning_rate * delta_weight.T)\n",
    "        bias = bias - (learning_rate * delta_bias)\n",
    "        \n",
    "        if (i % 100 == 0):\n",
    "            costs.append(cost)\n",
    "    #final parameters\n",
    "    coeff = {\"weight\": weight, \"bias\": bias}\n",
    "    gradient = {\"delta_weight\": delta_weight, \"delta_bias\": delta_bias}\n",
    "    return coeff, gradient, costs"
   ]
  },
  {
   "cell_type": "code",
   "execution_count": 10,
   "metadata": {},
   "outputs": [],
   "source": [
    "def predict(final_pred, m):\n",
    "    y_pred = np.zeros((1,m))\n",
    "    for i in range(final_pred.shape[1]):\n",
    "        if final_pred[0][i] > 0.5:\n",
    "            y_pred[0][i] = 1\n",
    "    return y_pred"
   ]
  },
  {
   "cell_type": "code",
   "execution_count": 51,
   "metadata": {},
   "outputs": [],
   "source": [
    "def accuracy_score(final_pred,Y):\n",
    "    print(final_pred.shape)\n",
    "    Y= Y.reshape(Y.shape[0],1)\n",
    "    print(Y.shape)\n",
    "    incorrect = np.sum(np.abs(final_pred-Y))\n",
    "    accuracy = 1-(incorrect/  Y.shape[0])\n",
    "  \n",
    "    return accuracy"
   ]
  },
  {
   "cell_type": "code",
   "execution_count": 52,
   "metadata": {},
   "outputs": [
    {
     "name": "stdout",
     "output_type": "stream",
     "text": [
      "Number of Features 4\n",
      "Optimized weights [[ 0.18791586  0.67381488 -1.09157208 -0.50259572]]\n",
      "Optimized intercept 0.12915330046796364\n",
      "[[0. 1. 0. 0. 1. 1. 1. 1. 0. 0. 0. 0. 1. 0. 0. 0. 0. 1. 0. 0. 0. 1. 0. 0.\n",
      "  0. 0. 0. 0. 1. 0. 0. 0. 0. 1. 0. 0. 0. 0. 1. 1. 0. 1. 0. 0. 0. 0. 1. 0.\n",
      "  0. 0. 1. 1. 0. 1. 1. 0. 0. 0. 1. 0. 0. 0. 1. 0. 0. 0. 0. 1. 1. 1. 1. 0.\n",
      "  0. 0. 1. 0. 0. 1. 1. 0. 0. 0. 1. 0. 0. 1. 0. 1. 0. 1. 0. 0. 1. 0. 1. 0.\n",
      "  0. 1. 0. 0. 0. 0. 0. 1. 1. 0. 0. 0. 0. 1. 0. 0. 0. 1. 1. 0. 0. 0. 1. 0.]]\n",
      "(120, 1)\n",
      "(120, 1)\n",
      "Training Accuracy 1.0\n",
      "(30, 1)\n",
      "(30, 1)\n",
      "Test Accuracy 1.0\n"
     ]
    }
   ],
   "source": [
    "# Get the number of features\n",
    "n_features = X_train.shape[1]\n",
    "print('Number of Features', n_features)\n",
    "weight, bias = weight_initial(n_features)\n",
    "\n",
    "#Gradient Descent\n",
    "coeff, gradient, costs = model_predict(weight, bias, X_train, y_train, learning_rate=0.001, no_iterations=5000)\n",
    "\n",
    "#Final prediction\n",
    "weight = coeff['weight']\n",
    "bias = coeff['bias']\n",
    "\n",
    "print('Optimized weights', weight)\n",
    "print('Optimized intercept', bias)\n",
    "\n",
    "final_train_pred = logistic(np.dot(weight,X_train.T)+ bias)\n",
    "final_test_pred = logistic(np.dot(weight,X_test.T)+ bias)\n",
    "\n",
    "m_train = X_train.shape[0]\n",
    "m_test = X_test.shape[0]\n",
    "\n",
    "#\n",
    "y_train_pred = predict(final_train_pred, m_train)\n",
    "print('Training Accuracy',accuracy_score(y_train_pred.T, y_train))\n",
    "#\n",
    "y_test_pred = predict(final_test_pred, m_test)\n",
    "print('Test Accuracy',accuracy_score(y_test_pred.T, y_test))\n",
    "\n",
    "\n"
   ]
  },
  {
   "cell_type": "code",
   "execution_count": 12,
   "metadata": {},
   "outputs": [
    {
     "data": {
      "image/png": "[encoded data removed]",
      "text/plain": [
       "<Figure size 432x288 with 1 Axes>"
      ]
     },
     "metadata": {},
     "output_type": "display_data"
    }
   ],
   "source": [
    "plt.plot(costs)\n",
    "plt.ylabel('cost')\n",
    "plt.xlabel('iterations (per hundreds)')\n",
    "plt.title('Cost reduction over time')\n",
    "plt.show()"
   ]
  },
  {
   "cell_type": "code",
   "execution_count": null,
   "metadata": {},
   "outputs": [],
   "source": []
  }
 ],
 "metadata": {
  "kernelspec": {
   "display_name": "Python 3",
   "language": "python",
   "name": "python3"
  },
  "language_info": {
   "codemirror_mode": {
    "name": "ipython",
    "version": 3
   },
   "file_extension": ".py",
   "mimetype": "text/x-python",
   "name": "python",
   "nbconvert_exporter": "python",
   "pygments_lexer": "ipython3",
   "version": "3.6.4"
  }
 },
 "nbformat": 4,
 "nbformat_minor": 2
}
