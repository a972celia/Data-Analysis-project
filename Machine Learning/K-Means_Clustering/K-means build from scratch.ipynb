{
 "cells": [
  {
   "cell_type": "markdown",
   "metadata": {},
   "source": [
    "## K-means clusering build from scratch\n",
    "\n",
    "<p>The problem of K means can be thought of as grouping the data into K clusters where assignment to the clusters is based on some similarity or distance measure to a centroid (more on this later). So how do we do this? Well, let’s first outline the steps involved.</p>\n",
    "\n",
    "1. We randomly initialize the K starting centroids. Each data point is assigned to its nearest centroid.\n",
    "2. The centroids are recomputed as the mean of the data points assigned to the respective cluster.\n",
    "3. Repeat steps 1 and 2 until we trigger our stopping criteria.\n"
   ]
  },
  {
   "cell_type": "code",
   "execution_count": 11,
   "metadata": {},
   "outputs": [],
   "source": [
    "import numpy as np\n",
    "from sklearn.metrics import pairwise_distances\n",
    "import matplotlib.pyplot as plt\n",
    "%matplotlib inline"
   ]
  },
  {
   "cell_type": "markdown",
   "metadata": {},
   "source": [
    "<p>There are a few methods that we need to implement and these correspond to the steps we outlined above. We will implement the following 5 methods which will help us split up the algorithm into manageable parts.</p>\n",
    "\n",
    "- Initialise_centroids\n",
    "- assign_clusters\n",
    "- update_centroids\n",
    "- fit_kmeans\n",
    "- predict\n",
    "\n",
    "<p>Bacially,data points are assigned to the cluster closest to them or in other words the cluster which minimizes this squared distance. We can write this more formally as:</p>\n",
    "\n",
    "$$\n",
    "J=\\Sigma_{n=1}^{N} \\Sigma_{k=1}^{K} r_{n k}\\left\\|x_{n}-\\mu_{k}\\right\\|^{2}\n",
    "$$\n",
    "<p>J is just the sum of squared distances of each data point to it’s assigned cluster. Where r is an indicator function equal to 1 if the data point (x_n) is assigned to the cluster (k) and 0 otherwise. </p>"
   ]
  },
  {
   "cell_type": "markdown",
   "metadata": {},
   "source": [
    "**Note:** \n",
    "1. We want our class to take in some parameters such as the number of clusters, the number of iterations and the seed which we need for reproducibility. Setting the seed is an important step since we randomly initialize our centroids at the start of the algorithm. If we didn't set our seed then we may converge to a different set of clusters each time we ran the algorithm. \n",
    "2. The <b>initialise_centroids</b> method simply selects k random data points and sets them as the initial cluster centres to begin the algorithm.\n",
    "3. We assign data to clusters depending on the Euclidean distance to the centre cluster.Here we use the <b>pairwise distance</b> method from sklearn which simplifies this calculation for us and returns the distances to each cluster centre. The argmin function identifies the index with the minimum distance to each cluster allowing us to assign the correct cluster label to that index.\n",
    "4. To finish off one iteration of the algorithm we just need to <b>update the centroids</b> as the average of all the data points assigned to the specific cluster.\n",
    "5. The <b>predict</b> method basically returns the corresponding predicted cluster label for each data point based on our algorithm. \n",
    "6. The last method in the code snippet below fits our model by calling the functions we previously defined. \n"
   ]
  },
  {
   "cell_type": "code",
   "execution_count": 27,
   "metadata": {},
   "outputs": [],
   "source": [
    "class Kmeans:\n",
    "    \"\"\" K Means Clustering\n",
    "    \n",
    "    Parameters\n",
    "    -----------\n",
    "        k: int , number of clusters\n",
    "        \n",
    "        seed: int, will be randomly set if None\n",
    "        \n",
    "        max_iter: int, number of iterations to run algorithm, default: 200\n",
    "        \n",
    "    Attributes\n",
    "    -----------\n",
    "       centroids: array, k, number_features\n",
    "       \n",
    "       cluster_labels: label for each data point\n",
    "       \n",
    "    \"\"\"\n",
    "    \n",
    "    def __init__(self, k, seed = None, max_iter = 200):\n",
    "        self.k = k\n",
    "        self.seed = seed\n",
    "        if self.seed is not None:\n",
    "            np.random.seed(self.seed)\n",
    "        self.max_iter = max_iter\n",
    "\n",
    "\n",
    "    def initialise_centroids(self, data):\n",
    "        \"\"\"Randomly Initialise Centroids\n",
    "        \n",
    "        Parameters\n",
    "        ----------\n",
    "        data: array or matrix, number_rows, number_features\n",
    "        \n",
    "        Returns\n",
    "        --------\n",
    "        centroids: array of k centroids chosen as random data points \n",
    "        \"\"\"\n",
    "\n",
    "        initial_centroids = np.random.permutation(data.shape[0])[:self.k]\n",
    "        self.centroids = data[initial_centroids]\n",
    "\n",
    "        return self.centroids\n",
    "\n",
    "    def assign_clusters(self, data):\n",
    "        \"\"\"Compute distance of data from clusters and assign data point\n",
    "           to closest cluster.\n",
    "        \n",
    "        Parameters\n",
    "        ----------\n",
    "        data: array or matrix, number_rows, number_features\n",
    "        \n",
    "        Returns\n",
    "        --------\n",
    "        cluster_labels: index which minmises the distance of data to each\n",
    "        cluster\n",
    "            \n",
    "        \"\"\"\n",
    "        if data.ndim == 1 :\n",
    "            data = data.reshape(-1,1)\n",
    "        \n",
    "        data_to_centroid = pairwise_distances(data, self.centroids, metric=\"euclidean\")\n",
    "        self.cluster_labels = np.argmin(data_to_centroid, axis=1)\n",
    "\n",
    "        return self.cluster_labels\n",
    "\n",
    "    def update_centroids(self, data):\n",
    "        \"\"\"Computes average of all data points in cluster and\n",
    "           assigns new centroids as average of data points\n",
    "        \n",
    "        Parameters\n",
    "        -----------\n",
    "        data: array or matrix, number_rows, number_features\n",
    "        \n",
    "        Returns\n",
    "        -----------\n",
    "        centroids: array, k, number_features\n",
    "        \"\"\"\n",
    "        self.centroids = np.array([data[self.cluster_labels == i].mean(axis = 0) for i in range (self.k)] )\n",
    "\n",
    "        return self.centroids\n",
    "\n",
    "    \n",
    "    def predict(self, data):\n",
    "        \"\"\"Predict which cluster data point belongs to\n",
    "        \n",
    "        Parameters\n",
    "        ----------\n",
    "        data: array or matrix, number_rows, number_features\n",
    "        \n",
    "        Returns\n",
    "        --------\n",
    "        cluster_labels: index which minmises the distance of data to each\n",
    "        cluster\n",
    "        \"\"\"\n",
    "        return self.assign_clusters(data)\n",
    "\n",
    "    def fit_kmeans(self, data):\n",
    "        \"\"\"\n",
    "        This function contains the main loop to fit the algorithm\n",
    "        Implements initialise centroids and update_centroids\n",
    "        according to max_iter\n",
    "        -----------------------\n",
    "        \n",
    "        Returns\n",
    "        -------\n",
    "        instance of kmeans class\n",
    "            \n",
    "        \"\"\"\n",
    "        self.centroids = self.initialise_centroids(data)\n",
    "\n",
    "        # Main kmeans loop\n",
    "        for iter in range (self.max_iter):\n",
    "            self.cluster_labels = self.assign_clusters(data)\n",
    "            self.centroids = self.update_centroids(data)\n",
    "            if iter % 100 == 0 :\n",
    "                print(\"Running Model Iteration {} \" .format(iter) )\n",
    "        print(\"Model finished running\")\n",
    "\n",
    "        return self"
   ]
  },
  {
   "cell_type": "code",
   "execution_count": 52,
   "metadata": {},
   "outputs": [
    {
     "name": "stdout",
     "output_type": "stream",
     "text": [
      "Running Model Iteration 0 \n",
      "Running Model Iteration 100 \n",
      "Running Model Iteration 200 \n",
      "Running Model Iteration 300 \n",
      "Running Model Iteration 400 \n",
      "Running Model Iteration 500 \n",
      "Model finished running\n"
     ]
    },
    {
     "data": {
      "text/plain": [
       "<matplotlib.collections.PathCollection at 0x11cfb4dd8>"
      ]
     },
     "execution_count": 52,
     "metadata": {},
     "output_type": "execute_result"
    },
    {
     "data": {
      "image/png": "[encoded data removed]",
      "text/plain": [
       "<Figure size 432x288 with 1 Axes>"
      ]
     },
     "metadata": {},
     "output_type": "display_data"
    }
   ],
   "source": [
    "from sklearn.datasets import make_blobs\n",
    "X, y = make_blobs(random_state=1)\n",
    "\n",
    "kmeans = Kmeans(3,1,600)\n",
    "fitted = kmeans.fit_kmeans(X)\n",
    "predicted_values = kmeans.predict(X)\n",
    "\n",
    "plt.scatter(X[:,0], X[:,1], c=predicted_values, cmap ='viridis')\n",
    "\n",
    "centers = fitted.centroids\n",
    "plt.scatter(centers[:,0], centers[:,1], c='black', s=200, alpha=0.6)"
   ]
  },
  {
   "cell_type": "code",
   "execution_count": null,
   "metadata": {},
   "outputs": [],
   "source": []
  },
  {
   "cell_type": "code",
   "execution_count": null,
   "metadata": {},
   "outputs": [],
   "source": []
  },
  {
   "cell_type": "code",
   "execution_count": null,
   "metadata": {},
   "outputs": [],
   "source": []
  }
 ],
 "metadata": {
  "kernelspec": {
   "display_name": "Python 3",
   "language": "python",
   "name": "python3"
  },
  "language_info": {
   "codemirror_mode": {
    "name": "ipython",
    "version": 3
   },
   "file_extension": ".py",
   "mimetype": "text/x-python",
   "name": "python",
   "nbconvert_exporter": "python",
   "pygments_lexer": "ipython3",
   "version": "3.6.4"
  }
 },
 "nbformat": 4,
 "nbformat_minor": 2
}
